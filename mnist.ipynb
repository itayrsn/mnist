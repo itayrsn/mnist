{
  "cells": [
    {
      "cell_type": "markdown",
      "source": [
        "# A. Load MNIST Dataset"
      ],
      "metadata": {
        "id": "rqUWC4bM7WUL"
      }
    },
    {
      "cell_type": "code",
      "execution_count": null,
      "metadata": {
        "id": "weB8kCJHlOA9"
      },
      "outputs": [],
      "source": [
        "%matplotlib inline\n",
        "\n",
        "import matplotlib.pyplot as plt\n",
        "import numpy as np\n",
        "import struct\n",
        "import random\n",
        "from array import array\n",
        "from os.path import join\n",
        "\n",
        "# MNIST Data Loader Class\n",
        "class MnistDataloader(object):\n",
        "    def __init__(self, training_images_filepath, training_labels_filepath,\n",
        "                 test_images_filepath, test_labels_filepath):\n",
        "        self.training_images_filepath = training_images_filepath\n",
        "        self.training_labels_filepath = training_labels_filepath\n",
        "        self.test_images_filepath = test_images_filepath\n",
        "        self.test_labels_filepath = test_labels_filepath\n",
        "\n",
        "    def read_images_labels(self, images_filepath, labels_filepath):\n",
        "        labels = []\n",
        "        with open(labels_filepath, 'rb') as file:\n",
        "            magic, size = struct.unpack(\">II\", file.read(8))\n",
        "            labels = array(\"B\", file.read())\n",
        "        images = []\n",
        "        with open(images_filepath, 'rb') as file:\n",
        "            # read images into columns\n",
        "            images = np.frombuffer(file.read(), np.uint8, offset=16).reshape(-1, 28*28).transpose()\n",
        "        return images, labels\n",
        "\n",
        "    def load_data(self):\n",
        "        x_train, y_train = self.read_images_labels(self.training_images_filepath, self.training_labels_filepath)\n",
        "        x_test, y_test = self.read_images_labels(self.test_images_filepath, self.test_labels_filepath)\n",
        "        return (x_train, y_train), (x_test, y_test)\n",
        "\n",
        "\n",
        "# helper function to show a list of images with their relating titles\n",
        "def show_images(images, title_texts):\n",
        "    cols = 5\n",
        "    rows = int(images.shape[1] / cols) + 1\n",
        "    plt.figure(figsize=(30,20))\n",
        "    for i in range(images.shape[1]):\n",
        "        image = images[:, i].reshape(28, 28)\n",
        "        title_text = title_texts[i]\n",
        "        plt.subplot(rows, cols, i+1)\n",
        "        plt.imshow(image, cmap=plt.cm.gray)\n",
        "        if (title_text != ''):\n",
        "            plt.title(title_text, fontsize = 15)\n",
        "\n",
        "# data files paths\n",
        "training_images_filepath = './train-images.idx3-ubyte'\n",
        "training_labels_filepath = './train-labels.idx1-ubyte'\n",
        "test_images_filepath = './t10k-images.idx3-ubyte'\n",
        "test_labels_filepath = './t10k-labels.idx1-ubyte'\n",
        "\n",
        "# load MNSIT dataset - (images, labels)\n",
        "mnist_dataloader = MnistDataloader(training_images_filepath, training_labels_filepath, test_images_filepath, test_labels_filepath)\n",
        "(x_train, y_train), (x_test, y_test) = mnist_dataloader.load_data()"
      ]
    },
    {
      "cell_type": "markdown",
      "source": [
        "**Data normalization**"
      ],
      "metadata": {
        "id": "ORh9qalp7z7j"
      }
    },
    {
      "cell_type": "code",
      "source": [
        "# A. normalize pixels color to [-0.5,0.5]\n",
        "train_img = x_train / 255 - 0.5\n",
        "train_labels = np.array(y_train)\n",
        "test_img = x_test / 255 - 0.5\n",
        "test_labels = np.array(y_test)"
      ],
      "metadata": {
        "id": "SvPKB8k2b8jy"
      },
      "execution_count": null,
      "outputs": []
    },
    {
      "cell_type": "markdown",
      "source": [
        "# B. PCA"
      ],
      "metadata": {
        "id": "SujOfI2E6-jH"
      }
    },
    {
      "cell_type": "code",
      "source": [
        "# B. Do PCA on MNIST using p componenets\n",
        "def pca_mnist(data, labels, p, test_plots=False):\n",
        "  n, m = data.shape # n = number of pixels (28*28), m = number of images\n",
        "  cov_matrix = (1/m) * (data @ data.T)\n",
        "  U, S, UT = np.linalg.svd(cov_matrix)\n",
        "\n",
        "  if test_plots:\n",
        "    # plotting singular values and check they are decaying\n",
        "    plt.plot(np.sqrt(S))\n",
        "    print('decaying:', all(earlier >= later for earlier, later in zip(S, S[1:])))\n",
        "\n",
        "  Up = U[:, :p]\n",
        "  reduced_data = Up.T @ data\n",
        "  reconstruct_data = Up @ reduced_data\n",
        "\n",
        "  if test_plots:\n",
        "    # show example samples of original VS recustructed images\n",
        "    sampled_idx = random.sample(range(data.shape[1]), 3)\n",
        "    sampled_labels = [labels[i] for i in sampled_idx]\n",
        "    show_images((data[:, sampled_idx] + 0.5) * 255, sampled_labels)\n",
        "    show_images((reconstruct_data[:, sampled_idx] + 0.5) * 255, sampled_labels)\n",
        "\n",
        "  # return the reduced data and the principle componenets\n",
        "  return reduced_data, Up\n",
        "\n",
        "reduced_train_img, pca_components = pca_mnist(train_img, train_labels, 20, test_plots=True)"
      ],
      "metadata": {
        "colab": {
          "base_uri": "https://localhost:8080/",
          "height": 958
        },
        "id": "RcOpJXZnz0CO",
        "outputId": "a4ccf5f2-9518-47bc-b905-63d96caa1684"
      },
      "execution_count": null,
      "outputs": [
        {
          "output_type": "stream",
          "name": "stdout",
          "text": [
            "decaying: True\n"
          ]
        },
        {
          "output_type": "display_data",
          "data": {
            "image/png": "[encoded data removed]",
            "text/plain": [
              "<Figure size 432x288 with 1 Axes>"
            ]
          },
          "metadata": {
            "needs_background": "light"
          }
        },
        {
          "output_type": "display_data",
          "data": {
            "image/png": "[encoded data removed]",
            "text/plain": [
              "<Figure size 2160x1440 with 3 Axes>"
            ]
          },
          "metadata": {
            "needs_background": "light"
          }
        },
        {
          "output_type": "display_data",
          "data": {
            "image/png": "[encoded data removed]",
            "text/plain": [
              "<Figure size 2160x1440 with 3 Axes>"
            ]
          },
          "metadata": {
            "needs_background": "light"
          }
        }
      ]
    },
    {
      "cell_type": "markdown",
      "source": [
        "# C. K-means clustering "
      ],
      "metadata": {
        "id": "YVORAaNlAl6C"
      }
    },
    {
      "cell_type": "code",
      "source": [
        "def find_closest_centroids(data, centroids):\n",
        "  idx = np.zeros(data.shape[1])\n",
        "  for i in range(data.shape[1]):\n",
        "    idx[i] = np.argmin(np.sqrt(np.sum((data[:, i:i+1]-centroids) ** 2, axis=0)))\n",
        "  return idx\n",
        "\n",
        "def kmeans(data, k):\n",
        "  # init centroids using random samples\n",
        "  centroids = data[:, np.random.choice(data.shape[1], k, replace=False)]\n",
        "  clusters = []\n",
        "  prev_centroids = []\n",
        "  converged = False\n",
        "\n",
        "  # clustering until cnetroids converged\n",
        "  while not converged:\n",
        "    prev_centroids = centroids\n",
        "    clusters = find_closest_centroids(data, centroids)\n",
        "    centroids = np.column_stack([ data[:, clusters == i].mean(1, keepdims=True) for i in range(k) ])\n",
        "    converged = np.array_equal(centroids, prev_centroids)\n",
        "  \n",
        "  return centroids, clusters"
      ],
      "metadata": {
        "id": "Y_-rvmhCAxR9"
      },
      "execution_count": null,
      "outputs": []
    },
    {
      "cell_type": "markdown",
      "source": [
        "# D. Classify the reduced images"
      ],
      "metadata": {
        "id": "zvKhD6jdKZps"
      }
    },
    {
      "cell_type": "code",
      "source": [
        "# classify the reduced images to 10 clusters\n",
        "k = 10\n",
        "centroids, clusters = kmeans(reduced_train_img, k)"
      ],
      "metadata": {
        "id": "7axA08Z9KYo2"
      },
      "execution_count": null,
      "outputs": []
    },
    {
      "cell_type": "markdown",
      "source": [
        "# E. Assign digits to clusters"
      ],
      "metadata": {
        "id": "8QyYzqCHK8hl"
      }
    },
    {
      "cell_type": "code",
      "source": [
        "# assign a digit to each cluster according to the most frequent label in the cluster\n",
        "clusters_digits = [np.argmax(np.bincount(train_labels[clusters==i])) for i in range(k)]\n",
        "print(clusters_digits)"
      ],
      "metadata": {
        "colab": {
          "base_uri": "https://localhost:8080/"
        },
        "id": "fuzSM7__LS_6",
        "outputId": "e3457f8c-bbcc-4f8e-9b86-f2d2694907e4"
      },
      "execution_count": null,
      "outputs": [
        {
          "output_type": "stream",
          "name": "stdout",
          "text": [
            "[2, 6, 7, 3, 0, 1, 8, 4, 0, 9]\n"
          ]
        }
      ]
    },
    {
      "cell_type": "code",
      "source": [
        "# check cluster's centroids\n",
        "centroids_img = pca_components @ centroids\n",
        "show_images((centroids_img + 0.5) * 255, clusters_digits)\n"
      ],
      "metadata": {
        "id": "Q1tAr4Rs-T1p",
        "colab": {
          "base_uri": "https://localhost:8080/",
          "height": 614
        },
        "outputId": "c4ea584b-8207-443b-8b7c-2cff3797decc"
      },
      "execution_count": null,
      "outputs": [
        {
          "output_type": "display_data",
          "data": {
            "image/png": "[encoded data removed]",
            "text/plain": [
              "<Figure size 2160x1440 with 10 Axes>"
            ]
          },
          "metadata": {
            "needs_background": "light"
          }
        }
      ]
    },
    {
      "cell_type": "markdown",
      "source": [
        "# F. Test Estimations"
      ],
      "metadata": {
        "id": "EDdAYtBzVIPI"
      }
    },
    {
      "cell_type": "code",
      "source": [
        "def estimate(data, centroids, clusters_labels):\n",
        "  labels = np.zeros(data.shape[1])\n",
        "  for i in range(data.shape[1]):\n",
        "    labels[i] = clusters_labels[np.argmin(np.sqrt(np.sum((data[:, i:i+1] - centroids) ** 2, axis=0)))]\n",
        "  return labels\n",
        "\n",
        "reduced_test_img = pca_components.T @ test_img\n",
        "estimate_labels = estimate(reduced_test_img, centroids, clusters_digits)\n",
        "print(estimate_labels)\n",
        "\n",
        "total_tests = test_img.shape[1]\n",
        "success = np.sum(test_labels == estimate_labels)\n",
        "print('Tests: ', total_tests, 'Success: ', success, 'Rate: ', 100.0 * success / total_tests)"
      ],
      "metadata": {
        "colab": {
          "base_uri": "https://localhost:8080/"
        },
        "id": "z46bOU_1VMxN",
        "outputId": "c12df67e-8e91-4ae2-ab69-f30cef42b246"
      },
      "execution_count": null,
      "outputs": [
        {
          "output_type": "stream",
          "name": "stdout",
          "text": [
            "[7. 3. 1. ... 9. 9. 6.]\n",
            "Tests:  10000 Success:  6359 Rate:  63.59\n"
          ]
        }
      ]
    },
    {
      "cell_type": "markdown",
      "source": [
        "# G. Consistency Check\n"
      ],
      "metadata": {
        "id": "4vqfZItVIlhb"
      }
    },
    {
      "cell_type": "code",
      "source": [
        "# check results with different random clusters initiazliations\n",
        "# the results are very consistent after 3 times we got ~5% difference\n",
        "\n",
        "for i in range(3):\n",
        "  centroids, clusters = kmeans(reduced_train_img, k)\n",
        "  clusters_digits = [np.argmax(np.bincount(train_labels[clusters==i])) for i in range(k)]\n",
        "  reduced_test_img = pca_components.T @ test_img\n",
        "  estimate_labels = estimate(reduced_test_img, centroids, clusters_digits)\n",
        "\n",
        "  total_tests = test_img.shape[1]\n",
        "  success = np.sum(test_labels == estimate_labels)\n",
        "  print('#Experiment', i)\n",
        "  print(' Cluster digits: ', clusters_digits)\n",
        "  print(' Tests: ', total_tests, 'Success: ', success, 'Rate: ', 100.0 * success / total_tests)"
      ],
      "metadata": {
        "colab": {
          "base_uri": "https://localhost:8080/"
        },
        "id": "ZE2izoaSI7Oq",
        "outputId": "965adfdb-1c6b-4d31-f364-87d0f39b4f37"
      },
      "execution_count": null,
      "outputs": [
        {
          "output_type": "stream",
          "name": "stdout",
          "text": [
            "#Experiment 0\n",
            " Cluster digits:  [6, 4, 3, 1, 2, 9, 0, 1, 8, 7]\n",
            " Tests:  10000 Success:  5939 Rate:  59.39\n",
            "#Experiment 1\n",
            " Cluster digits:  [2, 8, 3, 7, 4, 9, 1, 1, 6, 0]\n",
            " Tests:  10000 Success:  5731 Rate:  57.31\n",
            "#Experiment 2\n",
            " Cluster digits:  [6, 4, 2, 0, 1, 0, 1, 3, 7, 8]\n",
            " Tests:  10000 Success:  5813 Rate:  58.13\n"
          ]
        }
      ]
    },
    {
      "cell_type": "markdown",
      "source": [
        "# H. Smaller Dimensions"
      ],
      "metadata": {
        "id": "fMdv79XKB-hz"
      }
    },
    {
      "cell_type": "code",
      "source": [
        "# repeat the experiment using p=12 instead of 20\n",
        "# the results are lower by only few percentage (~1-5%)\n",
        "\n",
        "reduced_train_img, pca_components = pca_mnist(train_img, train_labels, 12)\n",
        "centroids, clusters = kmeans(reduced_train_img, 10)\n",
        "clusters_digits = [np.argmax(np.bincount(train_labels[clusters==i])) for i in range(k)]\n",
        "reduced_test_img = pca_components.T @ test_img\n",
        "estimate_labels = estimate(reduced_test_img, centroids, clusters_digits)\n",
        "\n",
        "total_tests = test_img.shape[1]\n",
        "success = np.sum(test_labels == estimate_labels)\n",
        "print('Tests: ', total_tests, 'Success: ', success, 'Rate: ', 100.0 * success / total_tests)\n"
      ],
      "metadata": {
        "colab": {
          "base_uri": "https://localhost:8080/"
        },
        "id": "Boligi9iCFXa",
        "outputId": "ec0341ba-8894-49c0-d189-d8c4b04ec264"
      },
      "execution_count": null,
      "outputs": [
        {
          "output_type": "stream",
          "name": "stdout",
          "text": [
            "Tests:  10000 Success:  5949 Rate:  59.49\n"
          ]
        }
      ]
    },
    {
      "cell_type": "markdown",
      "source": [
        "# I. Different K-Mean Initialization"
      ],
      "metadata": {
        "id": "NJ_EA3VHOLu6"
      }
    },
    {
      "cell_type": "code",
      "source": [
        "def kmeans2(data, centroids, k):\n",
        "  clusters = []\n",
        "  prev_centroids = []\n",
        "  converged = False\n",
        "\n",
        "  # clustering until cnetroids converged\n",
        "  while not converged:\n",
        "    prev_centroids = centroids\n",
        "    clusters = find_closest_centroids(data, centroids)\n",
        "    centroids = np.column_stack([ data[:, clusters == i].mean(1, keepdims=True) for i in range(k) ])\n",
        "    converged = np.array_equal(centroids, prev_centroids)\n",
        "  \n",
        "  return centroids, clusters\n",
        "\n",
        "\n",
        "reduced_train_img, pca_components = pca_mnist(train_img, train_labels, 20)\n",
        "\n",
        "# init each of the Kmeans centroids using the mean of 10 reduced images from each label\n",
        "centroids = []\n",
        "for i in range(k):\n",
        "  digit_imgs = reduced_train_img[:, train_labels == i]\n",
        "  centroids.append(digit_imgs[:, np.random.choice(digit_imgs.shape[1], 10, replace=False)].mean(1, keepdims=True))\n",
        "centroids = np.column_stack(centroids)\n",
        "\n",
        "centroids, clusters = kmeans2(reduced_train_img, centroids, k)\n",
        "clusters_digits = [np.argmax(np.bincount(train_labels[clusters==i])) for i in range(k)]\n",
        "reduced_test_img = pca_components.T @ test_img\n",
        "estimate_labels = estimate(reduced_test_img, centroids, clusters_digits)\n",
        "print(estimate_labels)\n",
        "\n",
        "total_tests = test_img.shape[1]\n",
        "success = np.sum(test_labels == estimate_labels)\n",
        "print('Tests: ', total_tests, 'Success: ', success, 'Rate: ', 100.0 * success / total_tests)"
      ],
      "metadata": {
        "colab": {
          "base_uri": "https://localhost:8080/"
        },
        "id": "4bKTKCmJO2U7",
        "outputId": "80ef26e5-62d3-4c15-9950-4f4e590d7abe"
      },
      "execution_count": null,
      "outputs": [
        {
          "output_type": "stream",
          "name": "stdout",
          "text": [
            "[7. 3. 1. ... 9. 6. 6.]\n",
            "Tests:  10000 Success:  6277 Rate:  62.77\n"
          ]
        }
      ]
    }
  ],
  "metadata": {
    "colab": {
      "collapsed_sections": [],
      "name": "DS2_mnist.ipynb",
      "provenance": []
    },
    "kernelspec": {
      "display_name": "Python 3",
      "name": "python3"
    },
    "language_info": {
      "name": "python"
    }
  },
  "nbformat": 4,
  "nbformat_minor": 0
}